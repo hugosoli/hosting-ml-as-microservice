{
 "cells": [
  {
   "cell_type": "markdown",
   "metadata": {
    "pycharm": {
     "name": "#%% md\n"
    }
   },
   "source": [
    "## Part 2: Training your own ML Model\n",
    "\n",
    "<a href=\"https://colab.research.google.com/github/peckjon/hosting-ml-as-microservice/blob/master/part2/train_sentiment_analysis.ipynb\" target=\"_parent\"><img src=\"https://colab.research.google.com/assets/colab-badge.svg\" alt=\"Open In Colab\"/></a>"
   ]
  },
  {
   "cell_type": "markdown",
   "metadata": {},
   "source": [
    "### Download corpuses\n",
    "\n",
    "We'll continue using the `movie_reviews` corpus to train our model. The `stopwords` corpus contains a [set of standard stopwords](https://gist.github.com/sebleier/554280) we'll want to remove from the input, and `punkt` is used for toneization in the [.words()](https://www.nltk.org/api/nltk.corpus.html#corpus-reader-functions) method of the corpus reader."
   ]
  },
  {
   "cell_type": "code",
   "execution_count": 1,
   "metadata": {
    "pycharm": {
     "name": "#%%\n"
    }
   },
   "outputs": [
    {
     "name": "stderr",
     "output_type": "stream",
     "text": [
      "[nltk_data] Downloading package movie_reviews to\n",
      "[nltk_data]     /Users/hugosg/nltk_data...\n",
      "[nltk_data]   Package movie_reviews is already up-to-date!\n",
      "[nltk_data] Downloading package punkt to /Users/hugosg/nltk_data...\n",
      "[nltk_data]   Package punkt is already up-to-date!\n",
      "[nltk_data] Downloading package stopwords to\n",
      "[nltk_data]     /Users/hugosg/nltk_data...\n",
      "[nltk_data]   Package stopwords is already up-to-date!\n"
     ]
    },
    {
     "data": {
      "text/plain": [
       "True"
      ]
     },
     "execution_count": 1,
     "metadata": {},
     "output_type": "execute_result"
    }
   ],
   "source": [
    "from nltk import download\n",
    "\n",
    "download('movie_reviews')\n",
    "download('punkt')\n",
    "download('stopwords')"
   ]
  },
  {
   "cell_type": "markdown",
   "metadata": {},
   "source": [
    "### Define feature extractor and bag-of-words converter\n",
    "\n",
    "Given a list of (already tokenized) words, we need a function to extract just the ones we care about: those not found in the list of English stopwords or standard punctuation.\n",
    "\n",
    "We also need a way to easily turn a list of words into a [bag-of-words](https://en.wikipedia.org/wiki/Bag-of-words_model), pairing each word with the count of its occurrences."
   ]
  },
  {
   "cell_type": "code",
   "execution_count": 9,
   "metadata": {},
   "outputs": [],
   "source": [
    "from nltk.corpus import stopwords\n",
    "from string import punctuation\n",
    "from nltk import SnowballStemmer\n",
    "\n",
    "stemmer = SnowballStemmer('english');\n",
    "stopwords_eng = stopwords.words('english')\n",
    "\n",
    "def extract_features(words):\n",
    "    return [stemmer.stem(w) for w in words if w not in stopwords_eng and w not in punctuation]\n",
    "\n",
    "def bag_of_words(words):\n",
    "    bag = {}\n",
    "    for w in words:\n",
    "        bag[w] = bag.get(w,0)+1\n",
    "    return bag"
   ]
  },
  {
   "cell_type": "markdown",
   "metadata": {},
   "source": [
    "### Ingest, clean, and convert the positive and negative reviews\n",
    "\n",
    "For both the positive (\"pos\") and negative (\"neg\") sets of reviews, extract the features and convert to bag of words. From these, we construct a list of tuples known as a \"featureset\": the first part of each tuple is the bag of words for that review, and the second is its label (\"pos\"/\"neg\").\n",
    "\n",
    "Note that `movie_reviews.words(fileid)` provides a tokenized list of words. If we wanted the un-tokenized text, we would use `movie_reviews.raw(fileid)` instead, then tokenize it using our preferred tokenizeer (e.g. [nltk.tokenize.word_tokenize](https://www.nltk.org/api/nltk.tokenize.html#nltk.tokenize.punkt.PunktLanguageVars.word_tokenize))."
   ]
  },
  {
   "cell_type": "code",
   "execution_count": 10,
   "metadata": {
    "scrolled": false
   },
   "outputs": [
    {
     "name": "stdout",
     "output_type": "stream",
     "text": [
      "({'film': 6, 'adapt': 1, 'comic': 5, 'book': 4, 'plenti': 1, 'success': 1, 'whether': 1, 'superhero': 1, 'batman': 1, 'superman': 1, 'spawn': 1, 'gear': 1, 'toward': 1, 'kid': 1, 'casper': 1, 'arthous': 1, 'crowd': 1, 'ghost': 1, 'world': 2, 'never': 2, 'realli': 2, 'like': 4, 'hell': 5, 'starter': 1, 'creat': 1, 'alan': 1, 'moor': 3, 'eddi': 1, 'campbel': 3, 'brought': 1, 'medium': 1, 'whole': 2, 'new': 1, 'level': 1, 'mid': 1, '80s': 1, '12': 1, 'part': 1, 'seri': 1, 'call': 3, 'watchmen': 1, 'say': 5, 'thorough': 1, 'research': 1, 'subject': 1, 'jack': 2, 'ripper': 3, 'would': 1, 'michael': 1, 'jackson': 1, 'start': 2, 'look': 2, 'littl': 2, 'odd': 1, 'graphic': 1, 'novel': 1, '500': 1, 'page': 1, 'long': 1, 'includ': 1, 'near': 1, '30': 1, 'consist': 1, 'noth': 1, 'footnot': 1, 'word': 2, 'dismiss': 1, 'sourc': 1, 'get': 3, 'past': 1, 'thing': 1, 'might': 1, 'find': 1, 'anoth': 1, 'stumbl': 1, 'block': 1, 'director': 1, 'albert': 1, 'allen': 1, 'hugh': 2, 'brother': 1, 'direct': 2, 'seem': 2, 'almost': 1, 'ludicr': 1, 'cast': 1, 'carrot': 1, 'top': 1, 'well': 1, 'anyth': 1, 'riddl': 1, 'better': 1, 'set': 1, 'ghetto': 2, 'featur': 1, 'violent': 1, 'street': 1, 'crime': 2, 'mad': 1, 'genius': 1, 'behind': 1, 'menac': 1, 'ii': 1, 'societi': 1, 'question': 1, 'cours': 1, 'whitechapel': 2, '1888': 1, 'london': 2, 'east': 1, 'end': 3, 'filthi': 1, 'sooti': 1, 'place': 2, 'whore': 1, 'unfortun': 2, 'nervous': 1, 'mysteri': 1, 'psychopath': 1, 'carv': 1, 'profess': 1, 'surgic': 1, 'precis': 1, 'first': 2, 'stiff': 1, 'turn': 3, 'copper': 1, 'peter': 2, 'godley': 1, 'robbi': 1, 'coltran': 1, 'enough': 2, 'inspector': 1, 'frederick': 1, 'abberlin': 2, 'johnni': 1, 'depp': 2, 'blow': 1, 'crack': 1, 'case': 1, 'widow': 1, 'prophet': 1, 'dream': 1, 'unsuccess': 1, 'tri': 1, 'quell': 1, 'copious': 1, 'amount': 1, 'absinth': 1, 'opium': 1, 'upon': 1, 'arriv': 1, 'befriend': 1, 'name': 1, 'mari': 1, 'kelli': 1, 'heather': 1, 'graham': 2, 'proceed': 1, 'investig': 1, 'horribl': 1, 'gruesom': 1, 'even': 3, 'polic': 1, 'surgeon': 1, 'stomach': 1, 'think': 1, 'anyon': 1, 'need': 1, 'brief': 1, 'go': 1, 'particular': 1, 'uniqu': 1, 'interest': 1, 'theori': 1, 'ident': 2, 'killer': 1, 'reason': 1, 'choos': 1, 'slay': 1, 'bother': 1, 'cloak': 1, 'screenwrit': 1, 'terri': 1, 'hay': 1, 'vertic': 1, 'limit': 1, 'rafael': 1, 'yglesia': 1, 'les': 1, 'mis': 1, 'rabl': 1, 'good': 2, 'job': 1, 'keep': 1, 'hidden': 1, 'viewer': 1, 'funni': 1, 'watch': 1, 'local': 1, 'blind': 1, 'point': 1, 'finger': 1, 'blame': 1, 'jew': 1, 'indian': 1, 'englishman': 1, 'could': 1, 'capabl': 1, 'commit': 1, 'ghast': 1, 'act': 2, 'whistl': 1, 'stonecutt': 1, 'song': 1, 'simpson': 1, 'day': 1, 'hold': 1, 'back': 1, 'electr': 1, 'car': 1, 'made': 1, 'steve': 1, 'guttenberg': 1, 'star': 1, 'worri': 1, 'make': 2, 'sens': 1, 'see': 2, 'onto': 1, 'appear': 1, 'certain': 1, 'dark': 1, 'bleak': 1, 'surpris': 2, 'much': 1, 'tim': 1, 'burton': 1, 'planet': 1, 'ape': 1, 'time': 2, 'sleepi': 1, 'hollow': 1, '2': 2, 'print': 1, 'saw': 1, 'complet': 1, 'finish': 1, 'color': 1, 'music': 1, 'final': 1, 'comment': 1, 'marilyn': 1, 'manson': 1, 'cinematograph': 1, 'deme': 1, 'abli': 1, 'captur': 1, 'dreari': 1, 'victorian': 1, 'era': 1, 'help': 1, 'flashi': 1, 'kill': 1, 'scene': 1, 'remind': 1, 'crazi': 1, 'flashback': 1, 'twin': 1, 'peak': 1, 'though': 1, 'violenc': 2, 'pale': 1, 'comparison': 1, 'black': 1, 'white': 1, 'oscar': 1, 'winner': 1, 'martin': 1, 'child': 1, 'shakespear': 1, 'love': 1, 'product': 1, 'design': 1, 'origin': 1, 'pragu': 1, 'surround': 1, 'one': 1, 'creepi': 1, 'solid': 1, 'dreami': 1, 'typic': 1, 'strong': 2, 'perform': 1, 'deft': 1, 'handl': 1, 'british': 1, 'accent': 2, 'ian': 1, 'holm': 1, 'joe': 1, 'gould': 1, 'secret': 1, 'richardson': 1, '102': 1, 'dalmatian': 1, 'log': 1, 'great': 1, 'support': 1, 'role': 1, 'big': 1, 'cring': 1, 'open': 1, 'mouth': 1, 'imagin': 1, 'attempt': 1, 'irish': 1, 'actual': 1, 'half': 1, 'bad': 1, 'howev': 1, '00': 1, 'r': 1, 'gore': 1, 'sexual': 1, 'languag': 1, 'drug': 1, 'content': 1}, 'pos')\n"
     ]
    }
   ],
   "source": [
    "from nltk.corpus import movie_reviews\n",
    "\n",
    "reviews_pos = []\n",
    "reviews_neg = []\n",
    "for fileid in movie_reviews.fileids('pos'):\n",
    "    words = extract_features(movie_reviews.words(fileid))\n",
    "    reviews_pos.append((bag_of_words(words), 'pos'))\n",
    "for fileid in movie_reviews.fileids('neg'):\n",
    "    words = extract_features(movie_reviews.words(fileid))\n",
    "    reviews_neg.append((bag_of_words(words), 'neg'))\n",
    "print(reviews_pos[0])"
   ]
  },
  {
   "cell_type": "markdown",
   "metadata": {},
   "source": [
    "### Split reviews into training and test sets\n",
    "We need to break up each group of reviews into a training set (about 80%) and a test set (the remaining 20%). In case there's some meaningful order to the reviews (e.g. the first 800 are from one group of reviewers, the next 200 are from another), we shuffle the sets first to ensure we aren't introducing additional bias. Note that this means our accuracy will not be exactly the same on every run; if you wish to see consistent results on each run, you can stabilize the shuffle by calling [random.seed(n)](https://www.geeksforgeeks.org/random-seed-in-python/) first."
   ]
  },
  {
   "cell_type": "code",
   "execution_count": 11,
   "metadata": {},
   "outputs": [],
   "source": [
    "from random import shuffle\n",
    "from random import seed\n",
    "\n",
    "split_pct = .80\n",
    "seed(0) \n",
    "\n",
    "def split_set(review_set):\n",
    "    split = int(len(review_set)*split_pct)\n",
    "    return (review_set[:split], review_set[split:])\n",
    "\n",
    "shuffle(reviews_pos)\n",
    "shuffle(reviews_neg)\n",
    "\n",
    "pos_train, pos_test = split_set(reviews_pos)\n",
    "neg_train, neg_test = split_set(reviews_neg)\n",
    "\n",
    "train_set = pos_train+neg_train\n",
    "test_set = pos_test+neg_test"
   ]
  },
  {
   "cell_type": "markdown",
   "metadata": {},
   "source": [
    "### Train the model\n",
    "\n",
    "Now that our data is ready, the training step itself is quite simple if we use the [NaiveBayesClassifier](https://www.nltk.org/api/nltk.classify.html#module-nltk.classify.naivebayes) provided by NLTK.\n",
    "\n",
    "If you are used to methods such as `model.fit(x,y)` which take two parameters -- the data and the labels -- it may be confusing that `NaiveBayesClassifier.train` takes just one argument. This is because the labels are already embedded in `train_set`: each element in the set is a Bag of Words paired with a 'pos' or 'neg'; value."
   ]
  },
  {
   "cell_type": "code",
   "execution_count": 12,
   "metadata": {},
   "outputs": [],
   "source": [
    "from nltk.classify import NaiveBayesClassifier\n",
    "\n",
    "model = NaiveBayesClassifier.train(train_set)"
   ]
  },
  {
   "cell_type": "markdown",
   "metadata": {},
   "source": [
    "### Check model accuracy\n",
    "\n",
    "NLTK's built-in [accuracy](https://www.nltk.org/api/nltk.classify.html#module-nltk.classify.util) utility can run our test_set through the model and compare the labels returned by the model to the labels in the test set, producing an overall % accuracy. Not too impressive, right? We need to improve."
   ]
  },
  {
   "cell_type": "code",
   "execution_count": 13,
   "metadata": {},
   "outputs": [
    {
     "name": "stdout",
     "output_type": "stream",
     "text": [
      "70.5\n"
     ]
    }
   ],
   "source": [
    "from nltk.classify.util import accuracy\n",
    "\n",
    "print(100 * accuracy(model, test_set))"
   ]
  },
  {
   "cell_type": "markdown",
   "metadata": {},
   "source": [
    "### Save the model\n",
    "Our trained model will be cleared from memory when this notebook is closed. So that we can use it again later, save the model as a file using the [pickle](https://docs.python.org/3/library/pickle.html) serializer."
   ]
  },
  {
   "cell_type": "code",
   "execution_count": 8,
   "metadata": {
    "pycharm": {
     "name": "#%%\n"
    }
   },
   "outputs": [],
   "source": [
    "import pickle\n",
    "\n",
    "model_file = open('sa_classifier.pickle','wb')\n",
    "pickle.dump(model, model_file)\n",
    "model_file.close()"
   ]
  },
  {
   "cell_type": "markdown",
   "metadata": {},
   "source": [
    "### Save the model (Colab version)\n",
    "\n",
    "Google Colab doesn't provide direct access to files saved during a notebook session, so we need to save it in [Google Drive](https://drive.google.com) instead. The first time you run this, it will ask for permission to access your Google Drive. Follow the instructions, then wait a few minutes and look for a new folder called \"Colab Output\" in [Drive](https://drive.google.com). Note that Colab does not alway sync to Drive immediately, so check the file update times and re-run this cell if it doesn't look like you have the most revent version of your file."
   ]
  },
  {
   "cell_type": "code",
   "execution_count": null,
   "metadata": {
    "collapsed": true
   },
   "outputs": [],
   "source": [
    "import sys\n",
    "if 'google.colab' in sys.modules:\n",
    "    from google.colab import drive\n",
    "    drive.mount('/content/gdrive')\n",
    "    !mkdir -p '/content/gdrive/My Drive/Colab Output'\n",
    "    model_file = open('/content/gdrive/My Drive/Colab Output/sa_classifier.pickle','wb')\n",
    "    pickle.dump(model, model_file)\n",
    "    model_file.flush()\n",
    "    print('Model saved in /content/gdrive/My Drive/Colab Output')\n",
    "    !ls '/content/gdrive/My Drive/Colab Output'\n",
    "    drive.flush_and_unmount()\n",
    "    print('Re-run this cell if you cannot find it in https://drive.google.com')"
   ]
  }
 ],
 "metadata": {
  "anaconda-cloud": {},
  "kernelspec": {
   "display_name": "Python 3",
   "language": "python",
   "name": "python3"
  },
  "language_info": {
   "codemirror_mode": {
    "name": "ipython",
    "version": 3
   },
   "file_extension": ".py",
   "mimetype": "text/x-python",
   "name": "python",
   "nbconvert_exporter": "python",
   "pygments_lexer": "ipython3",
   "version": "3.7.7"
  },
  "pycharm": {
   "stem_cell": {
    "cell_type": "raw",
    "metadata": {
     "collapsed": false
    },
    "source": []
   }
  }
 },
 "nbformat": 4,
 "nbformat_minor": 1
}
